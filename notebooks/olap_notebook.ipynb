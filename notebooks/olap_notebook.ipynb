{
 "cells": [
  {
   "cell_type": "code",
   "execution_count": 1,
   "metadata": {},
   "outputs": [],
   "source": [
    "# master=k8s://127.0.0.1:16443\n",
    "import sys\n",
    "import pandas as pd\n",
    "\n",
    "sys.path.append('..')\n",
    "from etl import create_spark_session"
   ]
  },
  {
   "cell_type": "code",
   "execution_count": 2,
   "metadata": {},
   "outputs": [
    {
     "data": {
      "text/html": [
       "\n",
       "            <div>\n",
       "                <p><b>SparkSession - in-memory</b></p>\n",
       "                \n",
       "        <div>\n",
       "            <p><b>SparkContext</b></p>\n",
       "\n",
       "            <p><a href=\"http://192.168.100.38:4040\">Spark UI</a></p>\n",
       "\n",
       "            <dl>\n",
       "              <dt>Version</dt>\n",
       "                <dd><code>v3.2.0</code></dd>\n",
       "              <dt>Master</dt>\n",
       "                <dd><code>k8s://127.0.0.1:16443</code></dd>\n",
       "              <dt>AppName</dt>\n",
       "                <dd><code>Udacity - Data Lake Project</code></dd>\n",
       "            </dl>\n",
       "        </div>\n",
       "        \n",
       "            </div>\n",
       "        "
      ],
      "text/plain": [
       "<pyspark.sql.session.SparkSession at 0x7f3b5d38fd90>"
      ]
     },
     "execution_count": 2,
     "metadata": {},
     "output_type": "execute_result"
    }
   ],
   "source": [
    "spark = create_spark_session(local=True)\n",
    "spark.sparkContext.setLogLevel(\"ERROR\")\n",
    "spark"
   ]
  },
  {
   "cell_type": "code",
   "execution_count": 3,
   "metadata": {},
   "outputs": [
    {
     "name": "stderr",
     "output_type": "stream",
     "text": [
      "                                                                                \r"
     ]
    }
   ],
   "source": [
    "df_songplays = spark.read.format('parquet').load('s3a://dutrajardim/udacity-dl-project/songplays.parquet').alias(\"songplays\")\n",
    "df_times = spark.read.format('parquet').load('s3a://dutrajardim/udacity-dl-project/times.parquet').alias(\"times\")\n",
    "df_artists = spark.read.format('parquet').load('s3a://dutrajardim/udacity-dl-project/artists.parquet').alias(\"artists\")\n",
    "df_users = spark.read.format('parquet').load('s3a://dutrajardim/udacity-dl-project/users.parquet').alias(\"users\")\n",
    "df_songs = spark.read.format('parquet').load('s3a://dutrajardim/udacity-dl-project/songs.parquet').alias(\"songs\")"
   ]
  },
  {
   "cell_type": "code",
   "execution_count": 6,
   "metadata": {},
   "outputs": [],
   "source": [
    "# artists.name, songplays.level, times.weekday\n",
    "cube_level_weekday_name = \\\n",
    "    df_songplays \\\n",
    "        .join(df_times, on='start_time', how='left') \\\n",
    "        .join(df_artists, on='artist_id', how='left') \\\n",
    "        .fillna(\"unknown\", subset=['name']) \\\n",
    "        .cube('level', 'weekday', 'name')"
   ]
  },
  {
   "cell_type": "code",
   "execution_count": 11,
   "metadata": {},
   "outputs": [
    {
     "name": "stderr",
     "output_type": "stream",
     "text": [
      "                                                                                \r"
     ]
    }
   ],
   "source": [
    "cube_level_weekday_name.count() \\\n",
    "    .write.format('parquet') \\\n",
    "    .mode('overwrite') \\\n",
    "    .save('s3a://dutrajardim/olap-cubes/level-weekday-artist.parquet')"
   ]
  },
  {
   "cell_type": "code",
   "execution_count": 41,
   "metadata": {},
   "outputs": [],
   "source": [
    "from pyspark.sql.functions import col\n",
    "cube_year_week_gender = \\\n",
    "    df_songplays.select(['start_time', 'user_id', 'song_id']) \\\n",
    "        .join(df_times.select(['start_time', 'week']), on='start_time', how='left') \\\n",
    "        .join(df_users.select(['user_id', 'gender']), on='user_id', how='left') \\\n",
    "        .join(df_songs.select(['song_id', 'year']), on='song_id', how='left') \\\n",
    "        .fillna({\n",
    "            'gender': \"unknown\",\n",
    "            'year': -1\n",
    "        }) \\\n",
    "        .cube('year', 'week', 'gender')"
   ]
  },
  {
   "cell_type": "code",
   "execution_count": 42,
   "metadata": {},
   "outputs": [
    {
     "name": "stderr",
     "output_type": "stream",
     "text": [
      "                                                                                \r"
     ]
    }
   ],
   "source": [
    "cube_year_week_gender.count() \\\n",
    "    .write.format('parquet') \\\n",
    "    .mode('overwrite') \\\n",
    "    .save('s3a://dutrajardim/olap-cubes/year-week-gender.parquet')"
   ]
  },
  {
   "cell_type": "code",
   "execution_count": 10,
   "metadata": {},
   "outputs": [
    {
     "data": {
      "text/html": [
       "<div>\n",
       "<style scoped>\n",
       "    .dataframe tbody tr th:only-of-type {\n",
       "        vertical-align: middle;\n",
       "    }\n",
       "\n",
       "    .dataframe tbody tr th {\n",
       "        vertical-align: top;\n",
       "    }\n",
       "\n",
       "    .dataframe thead th {\n",
       "        text-align: right;\n",
       "    }\n",
       "</style>\n",
       "<table border=\"1\" class=\"dataframe\">\n",
       "  <thead>\n",
       "    <tr style=\"text-align: right;\">\n",
       "      <th></th>\n",
       "      <th>level</th>\n",
       "      <th>weekday</th>\n",
       "      <th>name</th>\n",
       "      <th>count</th>\n",
       "    </tr>\n",
       "  </thead>\n",
       "  <tbody>\n",
       "    <tr>\n",
       "      <th>0</th>\n",
       "      <td>None</td>\n",
       "      <td>NaN</td>\n",
       "      <td>None</td>\n",
       "      <td>8106</td>\n",
       "    </tr>\n",
       "    <tr>\n",
       "      <th>1</th>\n",
       "      <td>free</td>\n",
       "      <td>NaN</td>\n",
       "      <td>None</td>\n",
       "      <td>1782</td>\n",
       "    </tr>\n",
       "    <tr>\n",
       "      <th>2</th>\n",
       "      <td>paid</td>\n",
       "      <td>NaN</td>\n",
       "      <td>None</td>\n",
       "      <td>6324</td>\n",
       "    </tr>\n",
       "  </tbody>\n",
       "</table>\n",
       "</div>"
      ],
      "text/plain": [
       "  level  weekday  name  count\n",
       "0  None      NaN  None   8106\n",
       "1  free      NaN  None   1782\n",
       "2  paid      NaN  None   6324"
      ]
     },
     "execution_count": 10,
     "metadata": {},
     "output_type": "execute_result"
    }
   ],
   "source": [
    "olap = spark.read.format('parquet').load('s3a://dutrajardim/olap-cubes/level-weekday-artist.parquet')\n",
    "olap.where('weekday IS NULL AND name IS NULL').toPandas()"
   ]
  },
  {
   "cell_type": "code",
   "execution_count": 11,
   "metadata": {},
   "outputs": [],
   "source": [
    "spark.stop()"
   ]
  },
  {
   "cell_type": "code",
   "execution_count": null,
   "metadata": {},
   "outputs": [],
   "source": []
  }
 ],
 "metadata": {
  "interpreter": {
   "hash": "4f00076993a79c6ae49a7e3129977fe8e9ce55828899303a503ea49aa3f668a3"
  },
  "kernelspec": {
   "display_name": "Python 3.9.9 64-bit ('.venv': venv)",
   "language": "python",
   "name": "python3"
  },
  "language_info": {
   "codemirror_mode": {
    "name": "ipython",
    "version": 3
   },
   "file_extension": ".py",
   "mimetype": "text/x-python",
   "name": "python",
   "nbconvert_exporter": "python",
   "pygments_lexer": "ipython3",
   "version": "3.10.1"
  },
  "orig_nbformat": 4
 },
 "nbformat": 4,
 "nbformat_minor": 2
}
