{
 "cells": [
  {
   "cell_type": "code",
   "execution_count": 13,
   "metadata": {},
   "outputs": [],
   "source": [
    "import configparser\n",
    "from pyspark.conf import SparkConf\n",
    "from pyspark.sql import SparkSession\n",
    "from pyspark.sql.functions import col, expr, desc"
   ]
  },
  {
   "cell_type": "markdown",
   "metadata": {},
   "source": [
    "## Creating spark session\n",
    "It's using a local kubernate cluster to run the spark workers as configured in sparkconf.cfg file."
   ]
  },
  {
   "cell_type": "code",
   "execution_count": 2,
   "metadata": {},
   "outputs": [
    {
     "data": {
      "text/html": [
       "\n",
       "            <div>\n",
       "                <p><b>SparkSession - in-memory</b></p>\n",
       "                \n",
       "        <div>\n",
       "            <p><b>SparkContext</b></p>\n",
       "\n",
       "            <p><a href=\"http://192.168.100.38:4040\">Spark UI</a></p>\n",
       "\n",
       "            <dl>\n",
       "              <dt>Version</dt>\n",
       "                <dd><code>v3.2.0</code></dd>\n",
       "              <dt>Master</dt>\n",
       "                <dd><code>k8s://127.0.0.1:16443</code></dd>\n",
       "              <dt>AppName</dt>\n",
       "                <dd><code>Local spark session</code></dd>\n",
       "            </dl>\n",
       "        </div>\n",
       "        \n",
       "            </div>\n",
       "        "
      ],
      "text/plain": [
       "<pyspark.sql.session.SparkSession at 0x7f3560b02c40>"
      ]
     },
     "execution_count": 2,
     "metadata": {},
     "output_type": "execute_result"
    }
   ],
   "source": [
    "sparkConf = SparkConf()\n",
    "parser = configparser.ConfigParser()\n",
    "parser.optionxform=str\n",
    "parser.read_file(open('../sparkconf.cfg'))\n",
    "\n",
    "for section, config in parser.items():\n",
    "    for key, value in config.items():\n",
    "        sparkConf.set(key, value)\n",
    "\n",
    "spark = SparkSession.builder.config(conf=sparkConf).getOrCreate()\n",
    "spark"
   ]
  },
  {
   "cell_type": "markdown",
   "metadata": {},
   "source": [
    "## Loading tables\n",
    "Loading the fact and dimension tables from s3 buckets"
   ]
  },
  {
   "cell_type": "code",
   "execution_count": 3,
   "metadata": {},
   "outputs": [
    {
     "name": "stderr",
     "output_type": "stream",
     "text": [
      "22/01/01 06:20:42 WARN MetricsConfig: Cannot locate configuration: tried hadoop-metrics2-s3a-file-system.properties,hadoop-metrics2.properties\n",
      "22/01/01 06:20:43 WARN AmazonHttpClient: SSL Certificate checking for endpoints has been explicitly disabled.\n",
      "                                                                                \r"
     ]
    }
   ],
   "source": [
    "input_data = \"s3a://dutrajardim/udacity-dl-project/\"\n",
    "\n",
    "df_songplays = spark.read.format('parquet').load('%ssongplays.parquet' % input_data).alias(\"songplays\")\n",
    "df_times = spark.read.format('parquet').load('%stimes.parquet' % input_data).alias(\"times\")\n",
    "df_artists = spark.read.format('parquet').load('%sartists.parquet' % input_data).alias(\"artists\")\n",
    "df_users = spark.read.format('parquet').load('%susers.parquet' % input_data).alias(\"users\")\n",
    "df_songs = spark.read.format('parquet').load('%ssongs.parquet' % input_data).alias(\"songs\")"
   ]
  },
  {
   "cell_type": "markdown",
   "metadata": {},
   "source": [
    "### Creating a olap cube with artist name, user level and weekday"
   ]
  },
  {
   "cell_type": "code",
   "execution_count": 8,
   "metadata": {},
   "outputs": [],
   "source": [
    "# artists.name, songplays.level, times.weekday\n",
    "cube_level_weekday_name = \\\n",
    "    df_songplays \\\n",
    "        .join(df_times, on='start_time', how='left') \\\n",
    "        .join(df_artists, on='artist_id', how='left') \\\n",
    "        .fillna(\"unknown\", subset=['name']) \\\n",
    "        .cube('level', 'weekday', 'name') \\\n",
    "        .count()"
   ]
  },
  {
   "cell_type": "markdown",
   "metadata": {},
   "source": [
    "#### Counting song plays plays by artist (top 10)\n",
    "\n",
    "The *unknown* counting is related to song plays in the log dataset for which there wasn't match in the song dataset."
   ]
  },
  {
   "cell_type": "code",
   "execution_count": 18,
   "metadata": {},
   "outputs": [
    {
     "name": "stderr",
     "output_type": "stream",
     "text": [
      "[Stage 27:===========================================>          (162 + 3) / 200]\r"
     ]
    },
    {
     "name": "stdout",
     "output_type": "stream",
     "text": [
      "+--------------------+-----+\n",
      "|                name|count|\n",
      "+--------------------+-----+\n",
      "|             unknown| 7734|\n",
      "|       Dwight Yoakam|   37|\n",
      "|Kid Cudi / Kanye ...|   10|\n",
      "|            Kid Cudi|   10|\n",
      "|       Lonnie Gordon|    9|\n",
      "|          Ron Carter|    9|\n",
      "|               B.o.B|    8|\n",
      "|                Muse|    6|\n",
      "|               Usher|    6|\n",
      "|Usher featuring J...|    6|\n",
      "+--------------------+-----+\n",
      "\n"
     ]
    },
    {
     "name": "stderr",
     "output_type": "stream",
     "text": [
      "                                                                                \r"
     ]
    }
   ],
   "source": [
    "cube_level_weekday_name \\\n",
    "    .where(expr(\"level IS NULL AND weekday IS NULL AND name IS NOT NULL\")) \\\n",
    "    .select('name', 'count') \\\n",
    "    .sort(desc('count')) \\\n",
    "    .limit(10) \\\n",
    "    .show()"
   ]
  },
  {
   "cell_type": "markdown",
   "metadata": {},
   "source": [
    "#### Counting song plays plays by weekday"
   ]
  },
  {
   "cell_type": "code",
   "execution_count": 37,
   "metadata": {},
   "outputs": [
    {
     "name": "stderr",
     "output_type": "stream",
     "text": [
      "[Stage 78:===============================================>      (177 + 2) / 200]\r"
     ]
    },
    {
     "name": "stdout",
     "output_type": "stream",
     "text": [
      "+-------+-----+\n",
      "|weekday|count|\n",
      "+-------+-----+\n",
      "|      1|  504|\n",
      "|      2| 1228|\n",
      "|      3| 1268|\n",
      "|      4| 1619|\n",
      "|      5| 1244|\n",
      "|      6| 1527|\n",
      "|      7|  716|\n",
      "+-------+-----+\n",
      "\n"
     ]
    },
    {
     "name": "stderr",
     "output_type": "stream",
     "text": [
      "                                                                                \r"
     ]
    }
   ],
   "source": [
    "cube_level_weekday_name \\\n",
    "    .where(expr(\"level IS NULL AND weekday IS NOT NULL AND name IS NULL\")) \\\n",
    "    .select('weekday', 'count') \\\n",
    "    .sort('weekday') \\\n",
    "    .show()"
   ]
  },
  {
   "cell_type": "markdown",
   "metadata": {},
   "source": [
    "#### Counting song plays by user level"
   ]
  },
  {
   "cell_type": "code",
   "execution_count": 36,
   "metadata": {},
   "outputs": [
    {
     "name": "stderr",
     "output_type": "stream",
     "text": [
      "[Stage 76:=========================================>            (154 + 4) / 200]\r"
     ]
    },
    {
     "name": "stdout",
     "output_type": "stream",
     "text": [
      "+-----+-----+\n",
      "|level|count|\n",
      "+-----+-----+\n",
      "| paid| 6324|\n",
      "| free| 1782|\n",
      "+-----+-----+\n",
      "\n"
     ]
    },
    {
     "name": "stderr",
     "output_type": "stream",
     "text": [
      "                                                                                \r"
     ]
    }
   ],
   "source": [
    "cube_level_weekday_name \\\n",
    "    .where(expr(\"level IS NOT NULL AND weekday IS NULL AND name IS NULL\")) \\\n",
    "    .select('level', 'count') \\\n",
    "    .sort(desc('count')) \\\n",
    "    .show()"
   ]
  },
  {
   "cell_type": "markdown",
   "metadata": {},
   "source": [
    "### Creating a olap cube with user gender, song year and week of the year"
   ]
  },
  {
   "cell_type": "code",
   "execution_count": 30,
   "metadata": {},
   "outputs": [],
   "source": [
    "\n",
    "cube_year_week_gender = \\\n",
    "    df_songplays.select('start_time', 'user_id', 'song_id') \\\n",
    "        .join(df_times.select('start_time', 'week'), on='start_time', how='left') \\\n",
    "        .join(df_users.select('user_id', 'gender'), on='user_id', how='left') \\\n",
    "        .join(df_songs.select('song_id', 'year'), on='song_id', how='left') \\\n",
    "        .fillna({\n",
    "            'gender': \"unknown\",\n",
    "            'year': -1\n",
    "        }) \\\n",
    "        .cube('year', 'week', 'gender') \\\n",
    "        .count()"
   ]
  },
  {
   "cell_type": "markdown",
   "metadata": {},
   "source": [
    "#### Counting song plays by gender\n",
    "\n",
    "The *unknown* counting is related to anonymous users."
   ]
  },
  {
   "cell_type": "code",
   "execution_count": 35,
   "metadata": {},
   "outputs": [
    {
     "name": "stderr",
     "output_type": "stream",
     "text": [
      "[Stage 74:====================================>                 (134 + 3) / 200]\r"
     ]
    },
    {
     "name": "stdout",
     "output_type": "stream",
     "text": [
      "+-------+-----+\n",
      "| gender|count|\n",
      "+-------+-----+\n",
      "|      F| 5482|\n",
      "|      M| 2288|\n",
      "|unknown|  286|\n",
      "+-------+-----+\n",
      "\n"
     ]
    },
    {
     "name": "stderr",
     "output_type": "stream",
     "text": [
      "                                                                                \r"
     ]
    }
   ],
   "source": [
    "cube_year_week_gender \\\n",
    "    .where(expr(\"year IS NULL AND week IS NULL AND gender IS NOT NULL\")) \\\n",
    "    .select('gender', 'count') \\\n",
    "    .sort(desc('count')) \\\n",
    "    .show()"
   ]
  },
  {
   "cell_type": "markdown",
   "metadata": {},
   "source": [
    "#### Counting song plays from female users by week "
   ]
  },
  {
   "cell_type": "code",
   "execution_count": 34,
   "metadata": {},
   "outputs": [
    {
     "name": "stderr",
     "output_type": "stream",
     "text": [
      "[Stage 72:==========================================>           (158 + 3) / 200]\r"
     ]
    },
    {
     "name": "stdout",
     "output_type": "stream",
     "text": [
      "+----+-----+\n",
      "|week|count|\n",
      "+----+-----+\n",
      "|  44|  322|\n",
      "|  45| 1004|\n",
      "|  46| 1695|\n",
      "|  47| 1397|\n",
      "|  48| 1064|\n",
      "+----+-----+\n",
      "\n"
     ]
    },
    {
     "name": "stderr",
     "output_type": "stream",
     "text": [
      "                                                                                \r"
     ]
    }
   ],
   "source": [
    "cube_year_week_gender \\\n",
    "    .where(expr(\"year IS NULL AND week IS NOT NULL AND gender = 'F'\")) \\\n",
    "    .select('week', 'count') \\\n",
    "    .sort('week') \\\n",
    "    .show()"
   ]
  },
  {
   "cell_type": "markdown",
   "metadata": {},
   "source": [
    "#### Counting song plays from male users by song year\n",
    "\n",
    "The result shows the count for the songs of the last 10 years in the dataset. The count is only related to songs data in log dataset that is also in the song dataset."
   ]
  },
  {
   "cell_type": "code",
   "execution_count": 49,
   "metadata": {},
   "outputs": [
    {
     "name": "stderr",
     "output_type": "stream",
     "text": [
      "[Stage 98:============================================>         (164 + 3) / 200]\r"
     ]
    },
    {
     "name": "stdout",
     "output_type": "stream",
     "text": [
      "+----+-----+\n",
      "|year|count|\n",
      "+----+-----+\n",
      "|2010|    6|\n",
      "|2009|    7|\n",
      "|2008|    4|\n",
      "|2007|    7|\n",
      "|2006|    4|\n",
      "|2005|    1|\n",
      "|2004|    4|\n",
      "|2003|    5|\n",
      "|2002|    3|\n",
      "|2001|    2|\n",
      "+----+-----+\n",
      "\n"
     ]
    },
    {
     "name": "stderr",
     "output_type": "stream",
     "text": [
      "                                                                                \r"
     ]
    }
   ],
   "source": [
    "cube_year_week_gender \\\n",
    "    .where(expr(\"year > 0 AND week IS NULL AND gender = 'M'\")) \\\n",
    "    .select('year', 'count') \\\n",
    "    .sort(desc('year')) \\\n",
    "    .limit(10) \\\n",
    "    .show()"
   ]
  },
  {
   "cell_type": "markdown",
   "metadata": {},
   "source": [
    "## Closing spark session"
   ]
  },
  {
   "cell_type": "code",
   "execution_count": 50,
   "metadata": {},
   "outputs": [
    {
     "name": "stderr",
     "output_type": "stream",
     "text": [
      "22/01/01 07:57:10 WARN ExecutorPodsWatchSnapshotSource: Kubernetes client has been closed.\n"
     ]
    }
   ],
   "source": [
    "spark.stop()"
   ]
  }
 ],
 "metadata": {
  "interpreter": {
   "hash": "4f00076993a79c6ae49a7e3129977fe8e9ce55828899303a503ea49aa3f668a3"
  },
  "kernelspec": {
   "display_name": "Python 3.9.9 64-bit ('.venv': venv)",
   "language": "python",
   "name": "python3"
  },
  "language_info": {
   "codemirror_mode": {
    "name": "ipython",
    "version": 3
   },
   "file_extension": ".py",
   "mimetype": "text/x-python",
   "name": "python",
   "nbconvert_exporter": "python",
   "pygments_lexer": "ipython3",
   "version": "3.9.9"
  },
  "orig_nbformat": 4
 },
 "nbformat": 4,
 "nbformat_minor": 2
}
